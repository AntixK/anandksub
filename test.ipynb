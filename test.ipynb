{
 "cells": [
  {
   "cell_type": "markdown",
   "metadata": {},
   "source": [
    "## Mistletoe"
   ]
  },
  {
   "cell_type": "code",
   "execution_count": 15,
   "metadata": {},
   "outputs": [],
   "source": [
    "%load_ext autoreload\n",
    "%autoreload 2"
   ]
  },
  {
   "cell_type": "code",
   "execution_count": 21,
   "metadata": {},
   "outputs": [],
   "source": [
    "import mistletoe\n",
    "from mistletoe import Document, HtmlRenderer\n",
    "from mistletoe.ast_renderer import ASTRenderer\n",
    "from mistletoe.contrib.mathjax import MathJaxRenderer\n",
    "from mistletoe.latex_renderer import LaTeXRenderer\n",
    "from mistletoe import block_token, span_token\n",
    "from mistletoe.block_token import tokenize, BlockToken\n",
    "from mistletoe.span_token import SpanToken\n",
    "\n",
    "from rich import print"
   ]
  },
  {
   "cell_type": "code",
   "execution_count": 22,
   "metadata": {},
   "outputs": [
    {
     "data": {
      "text/html": [
       "<pre style=\"white-space:pre;overflow-x:auto;line-height:normal;font-family:Menlo,'DejaVu Sans Mono',consolas,'Courier New',monospace\">$$\n",
       "f =  ma\n",
       "$$\n",
       "\n",
       "\n",
       "$$\n",
       "\\begin<span style=\"font-weight: bold\">{</span>aligned<span style=\"font-weight: bold\">}</span>\n",
       "<span style=\"color: #800080; text-decoration-color: #800080; font-weight: bold\">h</span><span style=\"font-weight: bold\">(</span>\\vx, \\vy | \\sigma<span style=\"font-weight: bold\">)</span> &amp;= <span style=\"color: #800080; text-decoration-color: #800080; font-weight: bold\">2C</span><span style=\"font-weight: bold\">(</span>d<span style=\"font-weight: bold\">)</span> \\sigma^<span style=\"font-weight: bold\">{</span>-d<span style=\"font-weight: bold\">}</span>D^<span style=\"font-weight: bold\">{</span>d-<span style=\"color: #008080; text-decoration-color: #008080; font-weight: bold\">1</span><span style=\"font-weight: bold\">}(</span>\\theta, \\vx, \\vy<span style=\"font-weight: bold\">)</span> \\exp \\bigg <span style=\"font-weight: bold\">(</span>\\frac<span style=\"font-weight: bold\">{</span>-D^<span style=\"color: #800080; text-decoration-color: #800080; font-weight: bold\">2</span><span style=\"font-weight: bold\">(</span>\\theta, \\vx, \n",
       "\\vy<span style=\"font-weight: bold\">)}{</span><span style=\"color: #008080; text-decoration-color: #008080; font-weight: bold\">2</span>\\sigma^<span style=\"color: #008080; text-decoration-color: #008080; font-weight: bold\">2</span><span style=\"font-weight: bold\">}</span> \\bigg <span style=\"font-weight: bold\">)</span> \\\\\n",
       "<span style=\"color: #800080; text-decoration-color: #800080; font-weight: bold\">C</span><span style=\"font-weight: bold\">(</span>d<span style=\"font-weight: bold\">)</span> &amp;= \\frac<span style=\"font-weight: bold\">{</span><span style=\"color: #008080; text-decoration-color: #008080; font-weight: bold\">1</span><span style=\"font-weight: bold\">}{</span><span style=\"color: #008080; text-decoration-color: #008080; font-weight: bold\">2</span>^<span style=\"font-weight: bold\">{</span>d/<span style=\"color: #008080; text-decoration-color: #008080; font-weight: bold\">2</span><span style=\"font-weight: bold\">}</span>\\<span style=\"color: #800080; text-decoration-color: #800080; font-weight: bold\">Gamma</span><span style=\"font-weight: bold\">(</span>d/<span style=\"color: #008080; text-decoration-color: #008080; font-weight: bold\">2</span><span style=\"font-weight: bold\">)}</span>\n",
       "\\end<span style=\"font-weight: bold\">{</span>aligned<span style=\"font-weight: bold\">}</span>\n",
       "$$\n",
       "\n",
       "$$\n",
       "\n",
       ":::important\n",
       "\n",
       "this is some important text!.\n",
       ":::\n",
       "\n",
       "!!!\n",
       "\n",
       "<span style=\"font-weight: bold\">&lt;</span><span style=\"color: #ff00ff; text-decoration-color: #ff00ff; font-weight: bold\">span</span><span style=\"color: #000000; text-decoration-color: #000000\">&gt;This is raw html code!&lt;</span><span style=\"color: #800080; text-decoration-color: #800080\">/</span><span style=\"color: #ff00ff; text-decoration-color: #ff00ff\">span</span><span style=\"color: #000000; text-decoration-color: #000000\">&gt;</span>\n",
       "\n",
       "<span style=\"color: #000000; text-decoration-color: #000000\">&lt;p&gt;this is a line.&lt;</span><span style=\"color: #800080; text-decoration-color: #800080\">/</span><span style=\"color: #ff00ff; text-decoration-color: #ff00ff\">p</span><span style=\"font-weight: bold\">&gt;</span>\n",
       "!!!\n",
       "\n",
       "```python\n",
       "tkjhsdf\n",
       "```\n",
       "\n",
       "```math\n",
       "x^<span style=\"color: #008080; text-decoration-color: #008080; font-weight: bold\">2</span> = <span style=\"color: #008080; text-decoration-color: #008080; font-weight: bold\">-1</span>\n",
       "```\n",
       "$$\n",
       "\\begin<span style=\"font-weight: bold\">{</span>aligned<span style=\"font-weight: bold\">}</span>\n",
       "f &amp;=  ma \\\\\n",
       "\\end<span style=\"font-weight: bold\">{</span>aligned<span style=\"font-weight: bold\">}</span>\n",
       "$$\\label<span style=\"font-weight: bold\">{</span>eq:test<span style=\"font-weight: bold\">}</span>\n",
       "\n",
       "Where $\\Gamma$ and $\\theta^*$.\n",
       "</pre>\n"
      ],
      "text/plain": [
       "$$\n",
       "f =  ma\n",
       "$$\n",
       "\n",
       "\n",
       "$$\n",
       "\\begin\u001b[1m{\u001b[0maligned\u001b[1m}\u001b[0m\n",
       "\u001b[1;35mh\u001b[0m\u001b[1m(\u001b[0m\\vx, \\vy | \\sigma\u001b[1m)\u001b[0m &= \u001b[1;35m2C\u001b[0m\u001b[1m(\u001b[0md\u001b[1m)\u001b[0m \\sigma^\u001b[1m{\u001b[0m-d\u001b[1m}\u001b[0mD^\u001b[1m{\u001b[0md-\u001b[1;36m1\u001b[0m\u001b[1m}\u001b[0m\u001b[1m(\u001b[0m\\theta, \\vx, \\vy\u001b[1m)\u001b[0m \\exp \\bigg \u001b[1m(\u001b[0m\\frac\u001b[1m{\u001b[0m-D^\u001b[1;35m2\u001b[0m\u001b[1m(\u001b[0m\\theta, \\vx, \n",
       "\\vy\u001b[1m)\u001b[0m\u001b[1m}\u001b[0m\u001b[1m{\u001b[0m\u001b[1;36m2\u001b[0m\\sigma^\u001b[1;36m2\u001b[0m\u001b[1m}\u001b[0m \\bigg \u001b[1m)\u001b[0m \\\\\n",
       "\u001b[1;35mC\u001b[0m\u001b[1m(\u001b[0md\u001b[1m)\u001b[0m &= \\frac\u001b[1m{\u001b[0m\u001b[1;36m1\u001b[0m\u001b[1m}\u001b[0m\u001b[1m{\u001b[0m\u001b[1;36m2\u001b[0m^\u001b[1m{\u001b[0md/\u001b[1;36m2\u001b[0m\u001b[1m}\u001b[0m\\\u001b[1;35mGamma\u001b[0m\u001b[1m(\u001b[0md/\u001b[1;36m2\u001b[0m\u001b[1m)\u001b[0m\u001b[1m}\u001b[0m\n",
       "\\end\u001b[1m{\u001b[0maligned\u001b[1m}\u001b[0m\n",
       "$$\n",
       "\n",
       "$$\n",
       "\n",
       ":::important\n",
       "\n",
       "this is some important text!.\n",
       ":::\n",
       "\n",
       "!!!\n",
       "\n",
       "\u001b[1m<\u001b[0m\u001b[1;95mspan\u001b[0m\u001b[39m>This is raw html code!<\u001b[0m\u001b[35m/\u001b[0m\u001b[95mspan\u001b[0m\u001b[39m>\u001b[0m\n",
       "\n",
       "\u001b[39m<p>this is a line.<\u001b[0m\u001b[35m/\u001b[0m\u001b[95mp\u001b[0m\u001b[1m>\u001b[0m\n",
       "!!!\n",
       "\n",
       "```python\n",
       "tkjhsdf\n",
       "```\n",
       "\n",
       "```math\n",
       "x^\u001b[1;36m2\u001b[0m = \u001b[1;36m-1\u001b[0m\n",
       "```\n",
       "$$\n",
       "\\begin\u001b[1m{\u001b[0maligned\u001b[1m}\u001b[0m\n",
       "f &=  ma \\\\\n",
       "\\end\u001b[1m{\u001b[0maligned\u001b[1m}\u001b[0m\n",
       "$$\\label\u001b[1m{\u001b[0meq:test\u001b[1m}\u001b[0m\n",
       "\n",
       "Where $\\Gamma$ and $\\theta^*$.\n"
      ]
     },
     "metadata": {},
     "output_type": "display_data"
    }
   ],
   "source": [
    "with open(\"text.md\", \"r+\") as f:\n",
    "    content = f.read()\n",
    "\n",
    "print(content)"
   ]
  },
  {
   "cell_type": "code",
   "execution_count": 23,
   "metadata": {},
   "outputs": [],
   "source": [
    "        \n",
    "class CustomHtmlRenderer(HtmlRenderer, LaTeXRenderer):\n",
    "    def __init__(self):\n",
    "        super().__init__(TripleCommaDiv, HTMLInMD, process_html_tokens=True)\n",
    "\n",
    "    def render_math(self, token):\n",
    "        \"\"\"\n",
    "        Convert single dollar sign enclosed math expressions to the ``\\\\(...\\\\)`` syntax, to support\n",
    "        the default MathJax settings which ignore single dollar signs as described at\n",
    "        https://docs.mathjax.org/en/latest/basic/mathematics.html#tex-and-latex-input.\n",
    "        \"\"\"\n",
    "        if token.content.startswith('$$'):\n",
    "            return self.render_raw_text(token)\n",
    "        # return '\\\\({}\\\\)'.format(self.render_raw_text(token).strip('$'))\n",
    "        return self.render_raw_text(token)\n",
    "    \n",
    "    def render_triple_comma_div(self, token):\n",
    "        inner = self.render_inner(token)\n",
    "        return f'<div class=\"{token.classes}\">{inner}</div>'\n",
    "    \n",
    "    def render_html_in_md(self, token):\n",
    "        return token.children\n",
    "\n",
    "    # def escape_html_text(self, s: str) -> str:\n",
    "    #     \"\"\"\n",
    "    #     Like `html.escape()`, but this  looks into the current rendering options\n",
    "    #     to decide which of the quotes (double, single, or both) to escape.\n",
    "\n",
    "    #     Intended for escaping text content. To escape content of an attribute,\n",
    "    #     simply call `html.escape()`.\n",
    "    #     \"\"\"\n",
    "    #     # print(f\"S = {s}\")\n",
    "    #     # s = s.replace(\"&\", \"&amp;\")  # Must be done first!\n",
    "    #     # s = s.replace(\"<\", \"&lt;\")\n",
    "    #     # s = s.replace(\">\", \"&gt;\")\n",
    "    #     if self.html_escape_double_quotes:\n",
    "    #         s = s.replace('\"', \"&quot;\")\n",
    "    #     if self.html_escape_single_quotes:\n",
    "    #         s = s.replace('\\'', \"&#x27;\")\n",
    "        \n",
    "    #     if s[-1] == \"\\\\\":\n",
    "    #         s+= \"\\\\\"\n",
    "        \n",
    "    #     # print(f\"S = {s}\")\n",
    "        \n",
    "    #     return s\n",
    "    \n",
    "    # @staticmethod\n",
    "    # def render_line_break(token: span_token.LineBreak) -> str:\n",
    "    #     # print(token)\n",
    "    #     return '\\n' # if token.soft else '<br />\\n'\n",
    "\n",
    "class HTMLInMD(BlockToken):\n",
    "    @staticmethod\n",
    "    def start(line):\n",
    "        return line.startswith(\"!!!\")\n",
    "\n",
    "    @staticmethod\n",
    "    def read(lines):\n",
    "        first_line = next(lines)\n",
    "        delimiter = \"!!!\"\n",
    "        child_lines = []\n",
    "        for line in lines:\n",
    "            # print(line)\n",
    "            if line.startswith(delimiter):\n",
    "                if line[len(delimiter)] != \":\":\n",
    "                    # End block found:\n",
    "                    break\n",
    "            child_lines.append(line)\n",
    "        # children = tokenize(child_lines)\n",
    "        children = \"\".join(child_lines)\n",
    "        return children\n",
    "\n",
    "    def __init__(self, match):\n",
    "        self.children = match\n",
    "\n",
    "class TripleCommaDiv(BlockToken):\n",
    "    @staticmethod\n",
    "    def start(line):\n",
    "        return line.startswith(\":::\")\n",
    "\n",
    "    @staticmethod\n",
    "    def read(lines):\n",
    "        first_line = next(lines)\n",
    "        # Get class of the div\n",
    "        classes = first_line.lstrip(\":\").strip()\n",
    "        delimiter = \":::\"\n",
    "        child_lines = []\n",
    "        for line in lines:\n",
    "            if line.startswith(delimiter):\n",
    "                if line[len(delimiter)] != \":\":\n",
    "                    # End block found:\n",
    "                    break\n",
    "            child_lines.append(line)\n",
    "        children = tokenize(child_lines)\n",
    "        return classes, children\n",
    "\n",
    "    def __init__(self, match):\n",
    "        self.classes, self.children = match"
   ]
  },
  {
   "cell_type": "code",
   "execution_count": 25,
   "metadata": {},
   "outputs": [
    {
     "data": {
      "text/html": [
       "<pre style=\"white-space:pre;overflow-x:auto;line-height:normal;font-family:Menlo,'DejaVu Sans Mono',consolas,'Courier New',monospace\"><span style=\"font-weight: bold\">&lt;</span><span style=\"color: #ff00ff; text-decoration-color: #ff00ff; font-weight: bold\">p</span><span style=\"color: #000000; text-decoration-color: #000000\">&gt;$$</span>\n",
       "<span style=\"color: #000000; text-decoration-color: #000000\">f =  ma</span>\n",
       "<span style=\"color: #000000; text-decoration-color: #000000\">$$&lt;</span><span style=\"color: #800080; text-decoration-color: #800080\">/</span><span style=\"color: #ff00ff; text-decoration-color: #ff00ff\">p</span><span style=\"color: #000000; text-decoration-color: #000000\">&gt;</span>\n",
       "<span style=\"color: #000000; text-decoration-color: #000000\">&lt;p&gt;$$</span>\n",
       "<span style=\"color: #000000; text-decoration-color: #000000\">\\begin</span><span style=\"color: #000000; text-decoration-color: #000000; font-weight: bold\">{</span><span style=\"color: #000000; text-decoration-color: #000000\">aligned</span><span style=\"color: #000000; text-decoration-color: #000000; font-weight: bold\">}</span>\n",
       "<span style=\"color: #800080; text-decoration-color: #800080; font-weight: bold\">h</span><span style=\"color: #000000; text-decoration-color: #000000; font-weight: bold\">(</span><span style=\"color: #000000; text-decoration-color: #000000\">\\vx, \\vy | \\sigma</span><span style=\"color: #000000; text-decoration-color: #000000; font-weight: bold\">)</span><span style=\"color: #000000; text-decoration-color: #000000\"> &amp;amp;= </span><span style=\"color: #800080; text-decoration-color: #800080; font-weight: bold\">2C</span><span style=\"color: #000000; text-decoration-color: #000000; font-weight: bold\">(</span><span style=\"color: #000000; text-decoration-color: #000000\">d</span><span style=\"color: #000000; text-decoration-color: #000000; font-weight: bold\">)</span><span style=\"color: #000000; text-decoration-color: #000000\"> \\sigma^</span><span style=\"color: #000000; text-decoration-color: #000000; font-weight: bold\">{</span><span style=\"color: #000000; text-decoration-color: #000000\">-d</span><span style=\"color: #000000; text-decoration-color: #000000; font-weight: bold\">}</span><span style=\"color: #000000; text-decoration-color: #000000\">D^</span><span style=\"color: #000000; text-decoration-color: #000000; font-weight: bold\">{</span><span style=\"color: #000000; text-decoration-color: #000000\">d-</span><span style=\"color: #008080; text-decoration-color: #008080; font-weight: bold\">1</span><span style=\"color: #000000; text-decoration-color: #000000; font-weight: bold\">}(</span><span style=\"color: #000000; text-decoration-color: #000000\">\\theta, \\vx, \\vy</span><span style=\"color: #000000; text-decoration-color: #000000; font-weight: bold\">)</span><span style=\"color: #000000; text-decoration-color: #000000\"> \\exp \\bigg </span><span style=\"color: #000000; text-decoration-color: #000000; font-weight: bold\">(</span><span style=\"color: #000000; text-decoration-color: #000000\">\\frac</span><span style=\"color: #000000; text-decoration-color: #000000; font-weight: bold\">{</span><span style=\"color: #000000; text-decoration-color: #000000\">-D^</span><span style=\"color: #800080; text-decoration-color: #800080; font-weight: bold\">2</span><span style=\"color: #000000; text-decoration-color: #000000; font-weight: bold\">(</span><span style=\"color: #000000; text-decoration-color: #000000\">\\theta, \\vx, </span>\n",
       "<span style=\"color: #000000; text-decoration-color: #000000\">\\vy</span><span style=\"color: #000000; text-decoration-color: #000000; font-weight: bold\">)}{</span><span style=\"color: #008080; text-decoration-color: #008080; font-weight: bold\">2</span><span style=\"color: #000000; text-decoration-color: #000000\">\\sigma^</span><span style=\"color: #008080; text-decoration-color: #008080; font-weight: bold\">2</span><span style=\"color: #000000; text-decoration-color: #000000; font-weight: bold\">}</span><span style=\"color: #000000; text-decoration-color: #000000\"> \\bigg </span><span style=\"color: #000000; text-decoration-color: #000000; font-weight: bold\">)</span><span style=\"color: #000000; text-decoration-color: #000000\"> \\\\</span>\n",
       "<span style=\"color: #800080; text-decoration-color: #800080; font-weight: bold\">C</span><span style=\"color: #000000; text-decoration-color: #000000; font-weight: bold\">(</span><span style=\"color: #000000; text-decoration-color: #000000\">d</span><span style=\"color: #000000; text-decoration-color: #000000; font-weight: bold\">)</span><span style=\"color: #000000; text-decoration-color: #000000\"> &amp;amp;= \\frac</span><span style=\"color: #000000; text-decoration-color: #000000; font-weight: bold\">{</span><span style=\"color: #008080; text-decoration-color: #008080; font-weight: bold\">1</span><span style=\"color: #000000; text-decoration-color: #000000; font-weight: bold\">}{</span><span style=\"color: #008080; text-decoration-color: #008080; font-weight: bold\">2</span><span style=\"color: #000000; text-decoration-color: #000000\">^</span><span style=\"color: #000000; text-decoration-color: #000000; font-weight: bold\">{</span><span style=\"color: #000000; text-decoration-color: #000000\">d/</span><span style=\"color: #008080; text-decoration-color: #008080; font-weight: bold\">2</span><span style=\"color: #000000; text-decoration-color: #000000; font-weight: bold\">}</span><span style=\"color: #000000; text-decoration-color: #000000\">\\</span><span style=\"color: #800080; text-decoration-color: #800080; font-weight: bold\">Gamma</span><span style=\"color: #000000; text-decoration-color: #000000; font-weight: bold\">(</span><span style=\"color: #000000; text-decoration-color: #000000\">d/</span><span style=\"color: #008080; text-decoration-color: #008080; font-weight: bold\">2</span><span style=\"color: #000000; text-decoration-color: #000000; font-weight: bold\">)}</span>\n",
       "<span style=\"color: #000000; text-decoration-color: #000000\">\\end</span><span style=\"color: #000000; text-decoration-color: #000000; font-weight: bold\">{</span><span style=\"color: #000000; text-decoration-color: #000000\">aligned</span><span style=\"color: #000000; text-decoration-color: #000000; font-weight: bold\">}</span>\n",
       "<span style=\"color: #000000; text-decoration-color: #000000\">$$&lt;</span><span style=\"color: #800080; text-decoration-color: #800080\">/</span><span style=\"color: #ff00ff; text-decoration-color: #ff00ff\">p</span><span style=\"color: #000000; text-decoration-color: #000000\">&gt;</span>\n",
       "<span style=\"color: #000000; text-decoration-color: #000000\">&lt;p&gt;$$&lt;</span><span style=\"color: #800080; text-decoration-color: #800080\">/</span><span style=\"color: #ff00ff; text-decoration-color: #ff00ff\">p</span><span style=\"color: #000000; text-decoration-color: #000000\">&gt;</span>\n",
       "<span style=\"color: #000000; text-decoration-color: #000000\">&lt;div </span><span style=\"color: #808000; text-decoration-color: #808000\">class</span><span style=\"color: #000000; text-decoration-color: #000000\">=</span><span style=\"color: #008000; text-decoration-color: #008000\">\"important\"</span><span style=\"color: #000000; text-decoration-color: #000000\">&gt;&lt;p&gt;this is some important text!.&lt;</span><span style=\"color: #800080; text-decoration-color: #800080\">/</span><span style=\"color: #ff00ff; text-decoration-color: #ff00ff\">p</span><span style=\"color: #000000; text-decoration-color: #000000\">&gt;&lt;</span><span style=\"color: #800080; text-decoration-color: #800080\">/</span><span style=\"color: #ff00ff; text-decoration-color: #ff00ff\">div</span><span style=\"color: #000000; text-decoration-color: #000000\">&gt;</span>\n",
       "\n",
       "<span style=\"color: #000000; text-decoration-color: #000000\">&lt;span&gt;This is raw html code!&lt;</span><span style=\"color: #800080; text-decoration-color: #800080\">/</span><span style=\"color: #ff00ff; text-decoration-color: #ff00ff\">span</span><span style=\"color: #000000; text-decoration-color: #000000\">&gt;</span>\n",
       "\n",
       "<span style=\"color: #000000; text-decoration-color: #000000\">&lt;p&gt;this is a line.&lt;</span><span style=\"color: #800080; text-decoration-color: #800080\">/</span><span style=\"color: #ff00ff; text-decoration-color: #ff00ff\">p</span><span style=\"color: #000000; text-decoration-color: #000000\">&gt;</span>\n",
       "\n",
       "<span style=\"color: #000000; text-decoration-color: #000000\">&lt;pre&gt;&lt;code </span><span style=\"color: #808000; text-decoration-color: #808000\">class</span><span style=\"color: #000000; text-decoration-color: #000000\">=</span><span style=\"color: #008000; text-decoration-color: #008000\">\"language-python\"</span><span style=\"color: #000000; text-decoration-color: #000000\">&gt;tkjhsdf</span>\n",
       "<span style=\"color: #000000; text-decoration-color: #000000\">&lt;</span><span style=\"color: #800080; text-decoration-color: #800080\">/</span><span style=\"color: #ff00ff; text-decoration-color: #ff00ff\">code</span><span style=\"color: #000000; text-decoration-color: #000000\">&gt;&lt;</span><span style=\"color: #800080; text-decoration-color: #800080\">/</span><span style=\"color: #ff00ff; text-decoration-color: #ff00ff\">pre</span><span style=\"color: #000000; text-decoration-color: #000000\">&gt;</span>\n",
       "<span style=\"color: #000000; text-decoration-color: #000000\">&lt;pre&gt;&lt;code </span><span style=\"color: #808000; text-decoration-color: #808000\">class</span><span style=\"color: #000000; text-decoration-color: #000000\">=</span><span style=\"color: #008000; text-decoration-color: #008000\">\"language-math\"</span><span style=\"color: #000000; text-decoration-color: #000000\">&gt;x^</span><span style=\"color: #008080; text-decoration-color: #008080; font-weight: bold\">2</span><span style=\"color: #000000; text-decoration-color: #000000\"> = </span><span style=\"color: #008080; text-decoration-color: #008080; font-weight: bold\">-1</span>\n",
       "<span style=\"color: #000000; text-decoration-color: #000000\">&lt;</span><span style=\"color: #800080; text-decoration-color: #800080\">/</span><span style=\"color: #ff00ff; text-decoration-color: #ff00ff\">code</span><span style=\"color: #000000; text-decoration-color: #000000\">&gt;&lt;</span><span style=\"color: #800080; text-decoration-color: #800080\">/</span><span style=\"color: #ff00ff; text-decoration-color: #ff00ff\">pre</span><span style=\"color: #000000; text-decoration-color: #000000\">&gt;</span>\n",
       "<span style=\"color: #000000; text-decoration-color: #000000\">&lt;p&gt;$$</span>\n",
       "<span style=\"color: #000000; text-decoration-color: #000000\">\\begin</span><span style=\"color: #000000; text-decoration-color: #000000; font-weight: bold\">{</span><span style=\"color: #000000; text-decoration-color: #000000\">aligned</span><span style=\"color: #000000; text-decoration-color: #000000; font-weight: bold\">}</span>\n",
       "<span style=\"color: #000000; text-decoration-color: #000000\">f &amp;amp;=  ma \\\\</span>\n",
       "<span style=\"color: #000000; text-decoration-color: #000000\">\\end</span><span style=\"color: #000000; text-decoration-color: #000000; font-weight: bold\">{</span><span style=\"color: #000000; text-decoration-color: #000000\">aligned</span><span style=\"color: #000000; text-decoration-color: #000000; font-weight: bold\">}</span>\n",
       "<span style=\"color: #000000; text-decoration-color: #000000\">$$\\label</span><span style=\"color: #000000; text-decoration-color: #000000; font-weight: bold\">{</span><span style=\"color: #000000; text-decoration-color: #000000\">eq:test</span><span style=\"color: #000000; text-decoration-color: #000000; font-weight: bold\">}</span><span style=\"color: #000000; text-decoration-color: #000000\">&lt;</span><span style=\"color: #800080; text-decoration-color: #800080\">/</span><span style=\"color: #ff00ff; text-decoration-color: #ff00ff\">p</span><span style=\"color: #000000; text-decoration-color: #000000\">&gt;</span>\n",
       "<span style=\"color: #000000; text-decoration-color: #000000\">&lt;p&gt;Where $\\Gamma$ and $\\theta^*$.&lt;</span><span style=\"color: #800080; text-decoration-color: #800080\">/</span><span style=\"color: #ff00ff; text-decoration-color: #ff00ff\">p</span><span style=\"font-weight: bold\">&gt;</span>\n",
       "\n",
       "</pre>\n"
      ],
      "text/plain": [
       "\u001b[1m<\u001b[0m\u001b[1;95mp\u001b[0m\u001b[39m>$$\u001b[0m\n",
       "\u001b[39mf =  ma\u001b[0m\n",
       "\u001b[39m$$<\u001b[0m\u001b[35m/\u001b[0m\u001b[95mp\u001b[0m\u001b[39m>\u001b[0m\n",
       "\u001b[39m<p>$$\u001b[0m\n",
       "\u001b[39m\\begin\u001b[0m\u001b[1;39m{\u001b[0m\u001b[39maligned\u001b[0m\u001b[1;39m}\u001b[0m\n",
       "\u001b[1;35mh\u001b[0m\u001b[1;39m(\u001b[0m\u001b[39m\\vx, \\vy | \\sigma\u001b[0m\u001b[1;39m)\u001b[0m\u001b[39m &amp;= \u001b[0m\u001b[1;35m2C\u001b[0m\u001b[1;39m(\u001b[0m\u001b[39md\u001b[0m\u001b[1;39m)\u001b[0m\u001b[39m \\sigma^\u001b[0m\u001b[1;39m{\u001b[0m\u001b[39m-d\u001b[0m\u001b[1;39m}\u001b[0m\u001b[39mD^\u001b[0m\u001b[1;39m{\u001b[0m\u001b[39md-\u001b[0m\u001b[1;36m1\u001b[0m\u001b[1;39m}\u001b[0m\u001b[1;39m(\u001b[0m\u001b[39m\\theta, \\vx, \\vy\u001b[0m\u001b[1;39m)\u001b[0m\u001b[39m \\exp \\bigg \u001b[0m\u001b[1;39m(\u001b[0m\u001b[39m\\frac\u001b[0m\u001b[1;39m{\u001b[0m\u001b[39m-D^\u001b[0m\u001b[1;35m2\u001b[0m\u001b[1;39m(\u001b[0m\u001b[39m\\theta, \\vx, \u001b[0m\n",
       "\u001b[39m\\vy\u001b[0m\u001b[1;39m)\u001b[0m\u001b[1;39m}\u001b[0m\u001b[1;39m{\u001b[0m\u001b[1;36m2\u001b[0m\u001b[39m\\sigma^\u001b[0m\u001b[1;36m2\u001b[0m\u001b[1;39m}\u001b[0m\u001b[39m \\bigg \u001b[0m\u001b[1;39m)\u001b[0m\u001b[39m \\\\\u001b[0m\n",
       "\u001b[1;35mC\u001b[0m\u001b[1;39m(\u001b[0m\u001b[39md\u001b[0m\u001b[1;39m)\u001b[0m\u001b[39m &amp;= \\frac\u001b[0m\u001b[1;39m{\u001b[0m\u001b[1;36m1\u001b[0m\u001b[1;39m}\u001b[0m\u001b[1;39m{\u001b[0m\u001b[1;36m2\u001b[0m\u001b[39m^\u001b[0m\u001b[1;39m{\u001b[0m\u001b[39md/\u001b[0m\u001b[1;36m2\u001b[0m\u001b[1;39m}\u001b[0m\u001b[39m\\\u001b[0m\u001b[1;35mGamma\u001b[0m\u001b[1;39m(\u001b[0m\u001b[39md/\u001b[0m\u001b[1;36m2\u001b[0m\u001b[1;39m)\u001b[0m\u001b[1;39m}\u001b[0m\n",
       "\u001b[39m\\end\u001b[0m\u001b[1;39m{\u001b[0m\u001b[39maligned\u001b[0m\u001b[1;39m}\u001b[0m\n",
       "\u001b[39m$$<\u001b[0m\u001b[35m/\u001b[0m\u001b[95mp\u001b[0m\u001b[39m>\u001b[0m\n",
       "\u001b[39m<p>$$<\u001b[0m\u001b[35m/\u001b[0m\u001b[95mp\u001b[0m\u001b[39m>\u001b[0m\n",
       "\u001b[39m<div \u001b[0m\u001b[33mclass\u001b[0m\u001b[39m=\u001b[0m\u001b[32m\"important\"\u001b[0m\u001b[39m><p>this is some important text!.<\u001b[0m\u001b[35m/\u001b[0m\u001b[95mp\u001b[0m\u001b[39m><\u001b[0m\u001b[35m/\u001b[0m\u001b[95mdiv\u001b[0m\u001b[39m>\u001b[0m\n",
       "\n",
       "\u001b[39m<span>This is raw html code!<\u001b[0m\u001b[35m/\u001b[0m\u001b[95mspan\u001b[0m\u001b[39m>\u001b[0m\n",
       "\n",
       "\u001b[39m<p>this is a line.<\u001b[0m\u001b[35m/\u001b[0m\u001b[95mp\u001b[0m\u001b[39m>\u001b[0m\n",
       "\n",
       "\u001b[39m<pre><code \u001b[0m\u001b[33mclass\u001b[0m\u001b[39m=\u001b[0m\u001b[32m\"language\u001b[0m\u001b[32m-python\"\u001b[0m\u001b[39m>tkjhsdf\u001b[0m\n",
       "\u001b[39m<\u001b[0m\u001b[35m/\u001b[0m\u001b[95mcode\u001b[0m\u001b[39m><\u001b[0m\u001b[35m/\u001b[0m\u001b[95mpre\u001b[0m\u001b[39m>\u001b[0m\n",
       "\u001b[39m<pre><code \u001b[0m\u001b[33mclass\u001b[0m\u001b[39m=\u001b[0m\u001b[32m\"language\u001b[0m\u001b[32m-math\"\u001b[0m\u001b[39m>x^\u001b[0m\u001b[1;36m2\u001b[0m\u001b[39m = \u001b[0m\u001b[1;36m-1\u001b[0m\n",
       "\u001b[39m<\u001b[0m\u001b[35m/\u001b[0m\u001b[95mcode\u001b[0m\u001b[39m><\u001b[0m\u001b[35m/\u001b[0m\u001b[95mpre\u001b[0m\u001b[39m>\u001b[0m\n",
       "\u001b[39m<p>$$\u001b[0m\n",
       "\u001b[39m\\begin\u001b[0m\u001b[1;39m{\u001b[0m\u001b[39maligned\u001b[0m\u001b[1;39m}\u001b[0m\n",
       "\u001b[39mf &amp;=  ma \\\\\u001b[0m\n",
       "\u001b[39m\\end\u001b[0m\u001b[1;39m{\u001b[0m\u001b[39maligned\u001b[0m\u001b[1;39m}\u001b[0m\n",
       "\u001b[39m$$\\label\u001b[0m\u001b[1;39m{\u001b[0m\u001b[39meq:test\u001b[0m\u001b[1;39m}\u001b[0m\u001b[39m<\u001b[0m\u001b[35m/\u001b[0m\u001b[95mp\u001b[0m\u001b[39m>\u001b[0m\n",
       "\u001b[39m<p>Where $\\Gamma$ and $\\theta^*$.<\u001b[0m\u001b[35m/\u001b[0m\u001b[95mp\u001b[0m\u001b[1m>\u001b[0m\n",
       "\n"
      ]
     },
     "metadata": {},
     "output_type": "display_data"
    }
   ],
   "source": [
    "\n",
    "print(mistletoe.markdown(content, CustomHtmlRenderer))"
   ]
  },
  {
   "cell_type": "code",
   "execution_count": 20,
   "metadata": {},
   "outputs": [
    {
     "data": {
      "text/html": [
       "<pre style=\"white-space:pre;overflow-x:auto;line-height:normal;font-family:Menlo,'DejaVu Sans Mono',consolas,'Courier New',monospace\">$$\n",
       "\\begin<span style=\"font-weight: bold\">{</span>aligned<span style=\"font-weight: bold\">}</span>\n",
       "<span style=\"color: #800080; text-decoration-color: #800080; font-weight: bold\">h</span><span style=\"font-weight: bold\">(</span>\\vx, \\vy | \\sigma<span style=\"font-weight: bold\">)</span> &amp;= <span style=\"color: #800080; text-decoration-color: #800080; font-weight: bold\">2C</span><span style=\"font-weight: bold\">(</span>d<span style=\"font-weight: bold\">)</span> \\sigma^<span style=\"font-weight: bold\">{</span>-d<span style=\"font-weight: bold\">}</span>D^<span style=\"font-weight: bold\">{</span>d-<span style=\"color: #008080; text-decoration-color: #008080; font-weight: bold\">1</span><span style=\"font-weight: bold\">}(</span>\\theta, \\vx, \\vy<span style=\"font-weight: bold\">)</span> \\exp \\bigg <span style=\"font-weight: bold\">(</span>\\frac<span style=\"font-weight: bold\">{</span>-D^<span style=\"color: #800080; text-decoration-color: #800080; font-weight: bold\">2</span><span style=\"font-weight: bold\">(</span>\\theta, \\vx, \n",
       "\\vy<span style=\"font-weight: bold\">)}{</span><span style=\"color: #008080; text-decoration-color: #008080; font-weight: bold\">2</span>\\sigma^<span style=\"color: #008080; text-decoration-color: #008080; font-weight: bold\">2</span><span style=\"font-weight: bold\">}</span> \\bigg <span style=\"font-weight: bold\">)</span> \\\\\n",
       "<span style=\"color: #800080; text-decoration-color: #800080; font-weight: bold\">C</span><span style=\"font-weight: bold\">(</span>d<span style=\"font-weight: bold\">)</span> &amp;= \\frac<span style=\"font-weight: bold\">{</span><span style=\"color: #008080; text-decoration-color: #008080; font-weight: bold\">1</span><span style=\"font-weight: bold\">}{</span><span style=\"color: #008080; text-decoration-color: #008080; font-weight: bold\">2</span>^<span style=\"font-weight: bold\">{</span>d/<span style=\"color: #008080; text-decoration-color: #008080; font-weight: bold\">2</span><span style=\"font-weight: bold\">}</span>\\<span style=\"color: #800080; text-decoration-color: #800080; font-weight: bold\">Gamma</span><span style=\"font-weight: bold\">(</span>d/<span style=\"color: #008080; text-decoration-color: #008080; font-weight: bold\">2</span><span style=\"font-weight: bold\">)}</span>\n",
       "\\end<span style=\"font-weight: bold\">{</span>aligned<span style=\"font-weight: bold\">}</span>\n",
       "$$\n",
       "\n",
       "This is an inline code $<span style=\"color: #800080; text-decoration-color: #800080; font-weight: bold\">h</span><span style=\"font-weight: bold\">(</span>x, y<span style=\"font-weight: bold\">)</span>$.\n",
       "</pre>\n"
      ],
      "text/plain": [
       "$$\n",
       "\\begin\u001b[1m{\u001b[0maligned\u001b[1m}\u001b[0m\n",
       "\u001b[1;35mh\u001b[0m\u001b[1m(\u001b[0m\\vx, \\vy | \\sigma\u001b[1m)\u001b[0m &= \u001b[1;35m2C\u001b[0m\u001b[1m(\u001b[0md\u001b[1m)\u001b[0m \\sigma^\u001b[1m{\u001b[0m-d\u001b[1m}\u001b[0mD^\u001b[1m{\u001b[0md-\u001b[1;36m1\u001b[0m\u001b[1m}\u001b[0m\u001b[1m(\u001b[0m\\theta, \\vx, \\vy\u001b[1m)\u001b[0m \\exp \\bigg \u001b[1m(\u001b[0m\\frac\u001b[1m{\u001b[0m-D^\u001b[1;35m2\u001b[0m\u001b[1m(\u001b[0m\\theta, \\vx, \n",
       "\\vy\u001b[1m)\u001b[0m\u001b[1m}\u001b[0m\u001b[1m{\u001b[0m\u001b[1;36m2\u001b[0m\\sigma^\u001b[1;36m2\u001b[0m\u001b[1m}\u001b[0m \\bigg \u001b[1m)\u001b[0m \\\\\n",
       "\u001b[1;35mC\u001b[0m\u001b[1m(\u001b[0md\u001b[1m)\u001b[0m &= \\frac\u001b[1m{\u001b[0m\u001b[1;36m1\u001b[0m\u001b[1m}\u001b[0m\u001b[1m{\u001b[0m\u001b[1;36m2\u001b[0m^\u001b[1m{\u001b[0md/\u001b[1;36m2\u001b[0m\u001b[1m}\u001b[0m\\\u001b[1;35mGamma\u001b[0m\u001b[1m(\u001b[0md/\u001b[1;36m2\u001b[0m\u001b[1m)\u001b[0m\u001b[1m}\u001b[0m\n",
       "\\end\u001b[1m{\u001b[0maligned\u001b[1m}\u001b[0m\n",
       "$$\n",
       "\n",
       "This is an inline code $\u001b[1;35mh\u001b[0m\u001b[1m(\u001b[0mx, y\u001b[1m)\u001b[0m$.\n"
      ]
     },
     "metadata": {},
     "output_type": "display_data"
    },
    {
     "data": {
      "text/html": [
       "<pre style=\"white-space:pre;overflow-x:auto;line-height:normal;font-family:Menlo,'DejaVu Sans Mono',consolas,'Courier New',monospace\"><span style=\"font-weight: bold\">&lt;</span><span style=\"color: #ff00ff; text-decoration-color: #ff00ff; font-weight: bold\">p</span><span style=\"color: #000000; text-decoration-color: #000000\">&gt;$$</span>\n",
       "<span style=\"color: #000000; text-decoration-color: #000000\">\\begin</span><span style=\"color: #000000; text-decoration-color: #000000; font-weight: bold\">{</span><span style=\"color: #000000; text-decoration-color: #000000\">aligned</span><span style=\"color: #000000; text-decoration-color: #000000; font-weight: bold\">}</span>\n",
       "<span style=\"color: #800080; text-decoration-color: #800080; font-weight: bold\">h</span><span style=\"color: #000000; text-decoration-color: #000000; font-weight: bold\">(</span><span style=\"color: #000000; text-decoration-color: #000000\">\\vx, \\vy | \\sigma</span><span style=\"color: #000000; text-decoration-color: #000000; font-weight: bold\">)</span><span style=\"color: #000000; text-decoration-color: #000000\"> &amp;amp;= </span><span style=\"color: #800080; text-decoration-color: #800080; font-weight: bold\">2C</span><span style=\"color: #000000; text-decoration-color: #000000; font-weight: bold\">(</span><span style=\"color: #000000; text-decoration-color: #000000\">d</span><span style=\"color: #000000; text-decoration-color: #000000; font-weight: bold\">)</span><span style=\"color: #000000; text-decoration-color: #000000\"> \\sigma^</span><span style=\"color: #000000; text-decoration-color: #000000; font-weight: bold\">{</span><span style=\"color: #000000; text-decoration-color: #000000\">-d</span><span style=\"color: #000000; text-decoration-color: #000000; font-weight: bold\">}</span><span style=\"color: #000000; text-decoration-color: #000000\">D^</span><span style=\"color: #000000; text-decoration-color: #000000; font-weight: bold\">{</span><span style=\"color: #000000; text-decoration-color: #000000\">d-</span><span style=\"color: #008080; text-decoration-color: #008080; font-weight: bold\">1</span><span style=\"color: #000000; text-decoration-color: #000000; font-weight: bold\">}(</span><span style=\"color: #000000; text-decoration-color: #000000\">\\theta, \\vx, \\vy</span><span style=\"color: #000000; text-decoration-color: #000000; font-weight: bold\">)</span><span style=\"color: #000000; text-decoration-color: #000000\"> \\exp \\bigg </span><span style=\"color: #000000; text-decoration-color: #000000; font-weight: bold\">(</span><span style=\"color: #000000; text-decoration-color: #000000\">\\frac</span><span style=\"color: #000000; text-decoration-color: #000000; font-weight: bold\">{</span><span style=\"color: #000000; text-decoration-color: #000000\">-D^</span><span style=\"color: #800080; text-decoration-color: #800080; font-weight: bold\">2</span><span style=\"color: #000000; text-decoration-color: #000000; font-weight: bold\">(</span><span style=\"color: #000000; text-decoration-color: #000000\">\\theta, \\vx, </span>\n",
       "<span style=\"color: #000000; text-decoration-color: #000000\">\\vy</span><span style=\"color: #000000; text-decoration-color: #000000; font-weight: bold\">)}{</span><span style=\"color: #008080; text-decoration-color: #008080; font-weight: bold\">2</span><span style=\"color: #000000; text-decoration-color: #000000\">\\sigma^</span><span style=\"color: #008080; text-decoration-color: #008080; font-weight: bold\">2</span><span style=\"color: #000000; text-decoration-color: #000000; font-weight: bold\">}</span><span style=\"color: #000000; text-decoration-color: #000000\"> \\bigg </span><span style=\"color: #000000; text-decoration-color: #000000; font-weight: bold\">)</span><span style=\"color: #000000; text-decoration-color: #000000\"> \\\\</span>\n",
       "<span style=\"color: #800080; text-decoration-color: #800080; font-weight: bold\">C</span><span style=\"color: #000000; text-decoration-color: #000000; font-weight: bold\">(</span><span style=\"color: #000000; text-decoration-color: #000000\">d</span><span style=\"color: #000000; text-decoration-color: #000000; font-weight: bold\">)</span><span style=\"color: #000000; text-decoration-color: #000000\"> &amp;amp;= \\frac</span><span style=\"color: #000000; text-decoration-color: #000000; font-weight: bold\">{</span><span style=\"color: #008080; text-decoration-color: #008080; font-weight: bold\">1</span><span style=\"color: #000000; text-decoration-color: #000000; font-weight: bold\">}{</span><span style=\"color: #008080; text-decoration-color: #008080; font-weight: bold\">2</span><span style=\"color: #000000; text-decoration-color: #000000\">^</span><span style=\"color: #000000; text-decoration-color: #000000; font-weight: bold\">{</span><span style=\"color: #000000; text-decoration-color: #000000\">d/</span><span style=\"color: #008080; text-decoration-color: #008080; font-weight: bold\">2</span><span style=\"color: #000000; text-decoration-color: #000000; font-weight: bold\">}</span><span style=\"color: #000000; text-decoration-color: #000000\">\\</span><span style=\"color: #800080; text-decoration-color: #800080; font-weight: bold\">Gamma</span><span style=\"color: #000000; text-decoration-color: #000000; font-weight: bold\">(</span><span style=\"color: #000000; text-decoration-color: #000000\">d/</span><span style=\"color: #008080; text-decoration-color: #008080; font-weight: bold\">2</span><span style=\"color: #000000; text-decoration-color: #000000; font-weight: bold\">)}</span>\n",
       "<span style=\"color: #000000; text-decoration-color: #000000\">\\end</span><span style=\"color: #000000; text-decoration-color: #000000; font-weight: bold\">{</span><span style=\"color: #000000; text-decoration-color: #000000\">aligned</span><span style=\"color: #000000; text-decoration-color: #000000; font-weight: bold\">}</span>\n",
       "<span style=\"color: #000000; text-decoration-color: #000000\">$$&lt;</span><span style=\"color: #800080; text-decoration-color: #800080\">/</span><span style=\"color: #ff00ff; text-decoration-color: #ff00ff\">p</span><span style=\"color: #000000; text-decoration-color: #000000\">&gt;</span>\n",
       "<span style=\"color: #000000; text-decoration-color: #000000\">&lt;p&gt;This is an inline code \\</span><span style=\"color: #000000; text-decoration-color: #000000; font-weight: bold\">(</span><span style=\"color: #800080; text-decoration-color: #800080; font-weight: bold\">h</span><span style=\"color: #000000; text-decoration-color: #000000; font-weight: bold\">(</span><span style=\"color: #000000; text-decoration-color: #000000\">x, y</span><span style=\"color: #000000; text-decoration-color: #000000; font-weight: bold\">)</span><span style=\"color: #000000; text-decoration-color: #000000\">\\</span><span style=\"color: #000000; text-decoration-color: #000000; font-weight: bold\">)</span><span style=\"color: #000000; text-decoration-color: #000000\">.&lt;</span><span style=\"color: #800080; text-decoration-color: #800080\">/</span><span style=\"color: #ff00ff; text-decoration-color: #ff00ff\">p</span><span style=\"color: #000000; text-decoration-color: #000000\">&gt;</span>\n",
       "<span style=\"color: #000000; text-decoration-color: #000000\">&lt;script </span><span style=\"color: #808000; text-decoration-color: #808000\">src</span><span style=\"color: #000000; text-decoration-color: #000000\">=</span><span style=\"color: #008000; text-decoration-color: #008000\">\"https://cdnjs.cloudflare.com/ajax/libs/mathjax/2.7.0/MathJax.js?config=TeX-MML-AM_CHTML\"</span><span style=\"color: #000000; text-decoration-color: #000000\">&gt;&lt;</span><span style=\"color: #800080; text-decoration-color: #800080\">/</span><span style=\"color: #ff00ff; text-decoration-color: #ff00ff\">script</span><span style=\"font-weight: bold\">&gt;</span>\n",
       "\n",
       "</pre>\n"
      ],
      "text/plain": [
       "\u001b[1m<\u001b[0m\u001b[1;95mp\u001b[0m\u001b[39m>$$\u001b[0m\n",
       "\u001b[39m\\begin\u001b[0m\u001b[1;39m{\u001b[0m\u001b[39maligned\u001b[0m\u001b[1;39m}\u001b[0m\n",
       "\u001b[1;35mh\u001b[0m\u001b[1;39m(\u001b[0m\u001b[39m\\vx, \\vy | \\sigma\u001b[0m\u001b[1;39m)\u001b[0m\u001b[39m &amp;= \u001b[0m\u001b[1;35m2C\u001b[0m\u001b[1;39m(\u001b[0m\u001b[39md\u001b[0m\u001b[1;39m)\u001b[0m\u001b[39m \\sigma^\u001b[0m\u001b[1;39m{\u001b[0m\u001b[39m-d\u001b[0m\u001b[1;39m}\u001b[0m\u001b[39mD^\u001b[0m\u001b[1;39m{\u001b[0m\u001b[39md-\u001b[0m\u001b[1;36m1\u001b[0m\u001b[1;39m}\u001b[0m\u001b[1;39m(\u001b[0m\u001b[39m\\theta, \\vx, \\vy\u001b[0m\u001b[1;39m)\u001b[0m\u001b[39m \\exp \\bigg \u001b[0m\u001b[1;39m(\u001b[0m\u001b[39m\\frac\u001b[0m\u001b[1;39m{\u001b[0m\u001b[39m-D^\u001b[0m\u001b[1;35m2\u001b[0m\u001b[1;39m(\u001b[0m\u001b[39m\\theta, \\vx, \u001b[0m\n",
       "\u001b[39m\\vy\u001b[0m\u001b[1;39m)\u001b[0m\u001b[1;39m}\u001b[0m\u001b[1;39m{\u001b[0m\u001b[1;36m2\u001b[0m\u001b[39m\\sigma^\u001b[0m\u001b[1;36m2\u001b[0m\u001b[1;39m}\u001b[0m\u001b[39m \\bigg \u001b[0m\u001b[1;39m)\u001b[0m\u001b[39m \\\\\u001b[0m\n",
       "\u001b[1;35mC\u001b[0m\u001b[1;39m(\u001b[0m\u001b[39md\u001b[0m\u001b[1;39m)\u001b[0m\u001b[39m &amp;= \\frac\u001b[0m\u001b[1;39m{\u001b[0m\u001b[1;36m1\u001b[0m\u001b[1;39m}\u001b[0m\u001b[1;39m{\u001b[0m\u001b[1;36m2\u001b[0m\u001b[39m^\u001b[0m\u001b[1;39m{\u001b[0m\u001b[39md/\u001b[0m\u001b[1;36m2\u001b[0m\u001b[1;39m}\u001b[0m\u001b[39m\\\u001b[0m\u001b[1;35mGamma\u001b[0m\u001b[1;39m(\u001b[0m\u001b[39md/\u001b[0m\u001b[1;36m2\u001b[0m\u001b[1;39m)\u001b[0m\u001b[1;39m}\u001b[0m\n",
       "\u001b[39m\\end\u001b[0m\u001b[1;39m{\u001b[0m\u001b[39maligned\u001b[0m\u001b[1;39m}\u001b[0m\n",
       "\u001b[39m$$<\u001b[0m\u001b[35m/\u001b[0m\u001b[95mp\u001b[0m\u001b[39m>\u001b[0m\n",
       "\u001b[39m<p>This is an inline code \\\u001b[0m\u001b[1;39m(\u001b[0m\u001b[1;35mh\u001b[0m\u001b[1;39m(\u001b[0m\u001b[39mx, y\u001b[0m\u001b[1;39m)\u001b[0m\u001b[39m\\\u001b[0m\u001b[1;39m)\u001b[0m\u001b[39m.<\u001b[0m\u001b[35m/\u001b[0m\u001b[95mp\u001b[0m\u001b[39m>\u001b[0m\n",
       "\u001b[39m<script \u001b[0m\u001b[33msrc\u001b[0m\u001b[39m=\u001b[0m\u001b[32m\"https\u001b[0m\u001b[32m://cdnjs.cloudflare.com/ajax/libs/mathjax/2.7.0/MathJax.js?\u001b[0m\u001b[32mconfig\u001b[0m\u001b[32m=\u001b[0m\u001b[32mTeX\u001b[0m\u001b[32m-MML-AM_CHTML\"\u001b[0m\u001b[39m><\u001b[0m\u001b[35m/\u001b[0m\u001b[95mscript\u001b[0m\u001b[1m>\u001b[0m\n",
       "\n"
      ]
     },
     "metadata": {},
     "output_type": "display_data"
    }
   ],
   "source": [
    "# with open(\"text1.md\", \"r+\") as f:\n",
    "#     content = f.read()\n",
    "\n",
    "# print(content)\n",
    "\n",
    "# print(mistletoe.markdown(content, MathJaxRenderer))\n"
   ]
  },
  {
   "cell_type": "code",
   "execution_count": 245,
   "metadata": {},
   "outputs": [
    {
     "data": {
      "text/html": [
       "<pre style=\"white-space:pre;overflow-x:auto;line-height:normal;font-family:Menlo,'DejaVu Sans Mono',consolas,'Courier New',monospace\"><span style=\"font-weight: bold\">[</span>\n",
       "    <span style=\"font-weight: bold\">&lt;</span><span style=\"color: #ff00ff; text-decoration-color: #ff00ff; font-weight: bold\">mistletoe.block_token.Paragraph</span><span style=\"color: #000000; text-decoration-color: #000000\"> with </span><span style=\"color: #008080; text-decoration-color: #008080; font-weight: bold\">5</span><span style=\"color: #000000; text-decoration-color: #000000\"> children </span><span style=\"color: #808000; text-decoration-color: #808000\">line_number</span><span style=\"color: #000000; text-decoration-color: #000000\">=</span><span style=\"color: #008080; text-decoration-color: #008080; font-weight: bold\">1</span><span style=\"color: #000000; text-decoration-color: #000000\"> at </span><span style=\"color: #008080; text-decoration-color: #008080; font-weight: bold\">0x72a551554f50</span><span style=\"color: #000000; text-decoration-color: #000000\">&gt;,</span>\n",
       "<span style=\"color: #000000; text-decoration-color: #000000\">    &lt;mistletoe.block_token.Paragraph with </span><span style=\"color: #008080; text-decoration-color: #008080; font-weight: bold\">9</span><span style=\"color: #000000; text-decoration-color: #000000\"> children </span><span style=\"color: #808000; text-decoration-color: #808000\">line_number</span><span style=\"color: #000000; text-decoration-color: #000000\">=</span><span style=\"color: #008080; text-decoration-color: #008080; font-weight: bold\">5</span><span style=\"color: #000000; text-decoration-color: #000000\"> at </span><span style=\"color: #008080; text-decoration-color: #008080; font-weight: bold\">0x72a551694d10</span><span style=\"color: #000000; text-decoration-color: #000000\">&gt;,</span>\n",
       "<span style=\"color: #000000; text-decoration-color: #000000\">    &lt;mistletoe.block_token.Paragraph with </span><span style=\"color: #008080; text-decoration-color: #008080; font-weight: bold\">1</span><span style=\"color: #000000; text-decoration-color: #000000\"> child </span><span style=\"color: #808000; text-decoration-color: #808000\">line_number</span><span style=\"color: #000000; text-decoration-color: #000000\">=</span><span style=\"color: #008080; text-decoration-color: #008080; font-weight: bold\">11</span><span style=\"color: #000000; text-decoration-color: #000000\"> at </span><span style=\"color: #008080; text-decoration-color: #008080; font-weight: bold\">0x72a552bc6330</span><span style=\"color: #000000; text-decoration-color: #000000\">&gt;,</span>\n",
       "<span style=\"color: #000000; text-decoration-color: #000000\">    &lt;mistletoe.block_token.Paragraph with </span><span style=\"color: #008080; text-decoration-color: #008080; font-weight: bold\">3</span><span style=\"color: #000000; text-decoration-color: #000000\"> children </span><span style=\"color: #808000; text-decoration-color: #808000\">line_number</span><span style=\"color: #000000; text-decoration-color: #000000\">=</span><span style=\"color: #008080; text-decoration-color: #008080; font-weight: bold\">13</span><span style=\"color: #000000; text-decoration-color: #000000\"> at </span><span style=\"color: #008080; text-decoration-color: #008080; font-weight: bold\">0x72a5516954c0</span><span style=\"color: #000000; text-decoration-color: #000000\">&gt;,</span>\n",
       "<span style=\"color: #000000; text-decoration-color: #000000\">    &lt;mistletoe.block_token.CodeFence with </span><span style=\"color: #008080; text-decoration-color: #008080; font-weight: bold\">1</span><span style=\"color: #000000; text-decoration-color: #000000\"> child </span><span style=\"color: #808000; text-decoration-color: #808000\">line_number</span><span style=\"color: #000000; text-decoration-color: #000000\">=</span><span style=\"color: #008080; text-decoration-color: #008080; font-weight: bold\">16</span><span style=\"color: #000000; text-decoration-color: #000000\"> </span><span style=\"color: #808000; text-decoration-color: #808000\">language</span><span style=\"color: #000000; text-decoration-color: #000000\">=</span><span style=\"color: #008000; text-decoration-color: #008000\">''</span><span style=\"color: #000000; text-decoration-color: #000000\"> at </span><span style=\"color: #008080; text-decoration-color: #008080; font-weight: bold\">0x72a551697e30</span><span style=\"color: #000000; text-decoration-color: #000000\">&gt;,</span>\n",
       "<span style=\"color: #000000; text-decoration-color: #000000\">    &lt;mistletoe.block_token.CodeFence with </span><span style=\"color: #008080; text-decoration-color: #008080; font-weight: bold\">1</span><span style=\"color: #000000; text-decoration-color: #000000\"> child </span><span style=\"color: #808000; text-decoration-color: #808000\">line_number</span><span style=\"color: #000000; text-decoration-color: #000000\">=</span><span style=\"color: #008080; text-decoration-color: #008080; font-weight: bold\">22</span><span style=\"color: #000000; text-decoration-color: #000000\"> </span><span style=\"color: #808000; text-decoration-color: #808000\">language</span><span style=\"color: #000000; text-decoration-color: #000000\">=</span><span style=\"color: #008000; text-decoration-color: #008000\">'python'</span><span style=\"color: #000000; text-decoration-color: #000000\"> at </span><span style=\"color: #008080; text-decoration-color: #008080; font-weight: bold\">0x72a55217b920</span><span style=\"color: #000000; text-decoration-color: #000000\">&gt;,</span>\n",
       "<span style=\"color: #000000; text-decoration-color: #000000\">    &lt;mistletoe.block_token.CodeFence with </span><span style=\"color: #008080; text-decoration-color: #008080; font-weight: bold\">1</span><span style=\"color: #000000; text-decoration-color: #000000\"> child </span><span style=\"color: #808000; text-decoration-color: #808000\">line_number</span><span style=\"color: #000000; text-decoration-color: #000000\">=</span><span style=\"color: #008080; text-decoration-color: #008080; font-weight: bold\">26</span><span style=\"color: #000000; text-decoration-color: #000000\"> </span><span style=\"color: #808000; text-decoration-color: #808000\">language</span><span style=\"color: #000000; text-decoration-color: #000000\">=</span><span style=\"color: #008000; text-decoration-color: #008000\">'math'</span><span style=\"color: #000000; text-decoration-color: #000000\"> at </span><span style=\"color: #008080; text-decoration-color: #008080; font-weight: bold\">0x72a551516f30</span><span style=\"color: #000000; text-decoration-color: #000000\">&gt;,</span>\n",
       "<span style=\"color: #000000; text-decoration-color: #000000\">    &lt;mistletoe.block_token.Paragraph with </span><span style=\"color: #008080; text-decoration-color: #008080; font-weight: bold\">9</span><span style=\"color: #000000; text-decoration-color: #000000\"> children </span><span style=\"color: #808000; text-decoration-color: #808000\">line_number</span><span style=\"color: #000000; text-decoration-color: #000000\">=</span><span style=\"color: #008080; text-decoration-color: #008080; font-weight: bold\">29</span><span style=\"color: #000000; text-decoration-color: #000000\"> at </span><span style=\"color: #008080; text-decoration-color: #008080; font-weight: bold\">0x72a5515157f0</span><span style=\"color: #000000; text-decoration-color: #000000\">&gt;,</span>\n",
       "<span style=\"color: #000000; text-decoration-color: #000000\">    &lt;mistletoe.block_token.Paragraph with </span><span style=\"color: #008080; text-decoration-color: #008080; font-weight: bold\">1</span><span style=\"color: #000000; text-decoration-color: #000000\"> child </span><span style=\"color: #808000; text-decoration-color: #808000\">line_number</span><span style=\"color: #000000; text-decoration-color: #000000\">=</span><span style=\"color: #008080; text-decoration-color: #008080; font-weight: bold\">35</span><span style=\"color: #000000; text-decoration-color: #000000\"> at </span><span style=\"color: #008080; text-decoration-color: #008080; font-weight: bold\">0x72a551517710</span><span style=\"font-weight: bold\">&gt;</span>\n",
       "<span style=\"font-weight: bold\">]</span>\n",
       "</pre>\n"
      ],
      "text/plain": [
       "\u001b[1m[\u001b[0m\n",
       "    \u001b[1m<\u001b[0m\u001b[1;95mmistletoe.block_token.Paragraph\u001b[0m\u001b[39m with \u001b[0m\u001b[1;36m5\u001b[0m\u001b[39m children \u001b[0m\u001b[33mline_number\u001b[0m\u001b[39m=\u001b[0m\u001b[1;36m1\u001b[0m\u001b[39m at \u001b[0m\u001b[1;36m0x72a551554f50\u001b[0m\u001b[39m>,\u001b[0m\n",
       "\u001b[39m    <mistletoe.block_token.Paragraph with \u001b[0m\u001b[1;36m9\u001b[0m\u001b[39m children \u001b[0m\u001b[33mline_number\u001b[0m\u001b[39m=\u001b[0m\u001b[1;36m5\u001b[0m\u001b[39m at \u001b[0m\u001b[1;36m0x72a551694d10\u001b[0m\u001b[39m>,\u001b[0m\n",
       "\u001b[39m    <mistletoe.block_token.Paragraph with \u001b[0m\u001b[1;36m1\u001b[0m\u001b[39m child \u001b[0m\u001b[33mline_number\u001b[0m\u001b[39m=\u001b[0m\u001b[1;36m11\u001b[0m\u001b[39m at \u001b[0m\u001b[1;36m0x72a552bc6330\u001b[0m\u001b[39m>,\u001b[0m\n",
       "\u001b[39m    <mistletoe.block_token.Paragraph with \u001b[0m\u001b[1;36m3\u001b[0m\u001b[39m children \u001b[0m\u001b[33mline_number\u001b[0m\u001b[39m=\u001b[0m\u001b[1;36m13\u001b[0m\u001b[39m at \u001b[0m\u001b[1;36m0x72a5516954c0\u001b[0m\u001b[39m>,\u001b[0m\n",
       "\u001b[39m    <mistletoe.block_token.CodeFence with \u001b[0m\u001b[1;36m1\u001b[0m\u001b[39m child \u001b[0m\u001b[33mline_number\u001b[0m\u001b[39m=\u001b[0m\u001b[1;36m16\u001b[0m\u001b[39m \u001b[0m\u001b[33mlanguage\u001b[0m\u001b[39m=\u001b[0m\u001b[32m''\u001b[0m\u001b[39m at \u001b[0m\u001b[1;36m0x72a551697e30\u001b[0m\u001b[39m>,\u001b[0m\n",
       "\u001b[39m    <mistletoe.block_token.CodeFence with \u001b[0m\u001b[1;36m1\u001b[0m\u001b[39m child \u001b[0m\u001b[33mline_number\u001b[0m\u001b[39m=\u001b[0m\u001b[1;36m22\u001b[0m\u001b[39m \u001b[0m\u001b[33mlanguage\u001b[0m\u001b[39m=\u001b[0m\u001b[32m'python'\u001b[0m\u001b[39m at \u001b[0m\u001b[1;36m0x72a55217b920\u001b[0m\u001b[39m>,\u001b[0m\n",
       "\u001b[39m    <mistletoe.block_token.CodeFence with \u001b[0m\u001b[1;36m1\u001b[0m\u001b[39m child \u001b[0m\u001b[33mline_number\u001b[0m\u001b[39m=\u001b[0m\u001b[1;36m26\u001b[0m\u001b[39m \u001b[0m\u001b[33mlanguage\u001b[0m\u001b[39m=\u001b[0m\u001b[32m'math'\u001b[0m\u001b[39m at \u001b[0m\u001b[1;36m0x72a551516f30\u001b[0m\u001b[39m>,\u001b[0m\n",
       "\u001b[39m    <mistletoe.block_token.Paragraph with \u001b[0m\u001b[1;36m9\u001b[0m\u001b[39m children \u001b[0m\u001b[33mline_number\u001b[0m\u001b[39m=\u001b[0m\u001b[1;36m29\u001b[0m\u001b[39m at \u001b[0m\u001b[1;36m0x72a5515157f0\u001b[0m\u001b[39m>,\u001b[0m\n",
       "\u001b[39m    <mistletoe.block_token.Paragraph with \u001b[0m\u001b[1;36m1\u001b[0m\u001b[39m child \u001b[0m\u001b[33mline_number\u001b[0m\u001b[39m=\u001b[0m\u001b[1;36m35\u001b[0m\u001b[39m at \u001b[0m\u001b[1;36m0x72a551517710\u001b[0m\u001b[1m>\u001b[0m\n",
       "\u001b[1m]\u001b[0m\n"
      ]
     },
     "metadata": {},
     "output_type": "display_data"
    }
   ],
   "source": [
    "doc = Document(content) #mistletoe.markdown(content, ASTRenderer))\n",
    "print(doc.children)"
   ]
  },
  {
   "cell_type": "code",
   "execution_count": 93,
   "metadata": {},
   "outputs": [
    {
     "data": {
      "text/plain": [
       "[<mistletoe.span_token.RawText content='$$' at 0x72a552b6c2f0>,\n",
       " <mistletoe.span_token.LineBreak content='' soft=True at 0x72a552b6dd30>,\n",
       " <mistletoe.span_token.RawText content='\\\\begin{aligned}' at 0x72a552b6de50>,\n",
       " <mistletoe.span_token.LineBreak content='' soft=True at 0x72a552b6eed0>,\n",
       " <mistletoe.span_token.RawText content='f &=  ma \\\\' at 0x72a552b6cb00>,\n",
       " <mistletoe.span_token.LineBreak content='\\\\' soft=False at 0x72a552b6d820>,\n",
       " <mistletoe.span_token.RawText content='\\\\end{aligned}' at 0x72a552b6fe90>,\n",
       " <mistletoe.span_token.LineBreak content='' soft=True at 0x72a552b6e900>,\n",
       " <mistletoe.span_token.RawText content='$$' at 0x72a552b6e300>]"
      ]
     },
     "execution_count": 93,
     "metadata": {},
     "output_type": "execute_result"
    }
   ],
   "source": [
    "doc.children[1].children"
   ]
  },
  {
   "cell_type": "code",
   "execution_count": 95,
   "metadata": {},
   "outputs": [
    {
     "ename": "AttributeError",
     "evalue": "'CustomHtmlRenderer' object has no attribute 'render_html_in_md'",
     "output_type": "error",
     "traceback": [
      "\u001b[0;31m---------------------------------------------------------------------------\u001b[0m",
      "\u001b[0;31mAttributeError\u001b[0m                            Traceback (most recent call last)",
      "Cell \u001b[0;32mIn[95], line 1\u001b[0m\n\u001b[0;32m----> 1\u001b[0m \u001b[38;5;28mprint\u001b[39m(\u001b[43mmistletoe\u001b[49m\u001b[38;5;241;43m.\u001b[39;49m\u001b[43mmarkdown\u001b[49m\u001b[43m(\u001b[49m\u001b[43mcontent\u001b[49m\u001b[43m,\u001b[49m\u001b[43m \u001b[49m\u001b[43mCustomHtmlRenderer\u001b[49m\u001b[43m)\u001b[49m)\n",
      "File \u001b[0;32m~/miniconda3/envs/blog/lib/python3.12/site-packages/mistletoe/__init__.py:23\u001b[0m, in \u001b[0;36mmarkdown\u001b[0;34m(iterable, renderer)\u001b[0m\n\u001b[1;32m     15\u001b[0m \u001b[38;5;28;01mdef\u001b[39;00m \u001b[38;5;21mmarkdown\u001b[39m(iterable, renderer\u001b[38;5;241m=\u001b[39mHtmlRenderer):\n\u001b[1;32m     16\u001b[0m \u001b[38;5;250m    \u001b[39m\u001b[38;5;124;03m\"\"\"\u001b[39;00m\n\u001b[1;32m     17\u001b[0m \u001b[38;5;124;03m    Converts markdown input to the output supported by the given renderer.\u001b[39;00m\n\u001b[1;32m     18\u001b[0m \u001b[38;5;124;03m    If no renderer is supplied, ``HtmlRenderer`` is used.\u001b[39;00m\n\u001b[0;32m   (...)\u001b[0m\n\u001b[1;32m     21\u001b[0m \u001b[38;5;124;03m    are automatically (and temporarily) added to the parsing process.\u001b[39;00m\n\u001b[1;32m     22\u001b[0m \u001b[38;5;124;03m    \"\"\"\u001b[39;00m\n\u001b[0;32m---> 23\u001b[0m     \u001b[38;5;28;01mwith\u001b[39;00m \u001b[43mrenderer\u001b[49m\u001b[43m(\u001b[49m\u001b[43m)\u001b[49m \u001b[38;5;28;01mas\u001b[39;00m renderer:\n\u001b[1;32m     24\u001b[0m         \u001b[38;5;28;01mreturn\u001b[39;00m renderer\u001b[38;5;241m.\u001b[39mrender(Document(iterable))\n",
      "Cell \u001b[0;32mIn[90], line 31\u001b[0m, in \u001b[0;36mCustomHtmlRenderer.__init__\u001b[0;34m(self)\u001b[0m\n\u001b[1;32m     30\u001b[0m \u001b[38;5;28;01mdef\u001b[39;00m \u001b[38;5;21m__init__\u001b[39m(\u001b[38;5;28mself\u001b[39m):\n\u001b[0;32m---> 31\u001b[0m     \u001b[38;5;28;43msuper\u001b[39;49m\u001b[43m(\u001b[49m\u001b[43m)\u001b[49m\u001b[38;5;241;43m.\u001b[39;49m\u001b[38;5;21;43m__init__\u001b[39;49m\u001b[43m(\u001b[49m\u001b[43mTripleCommaDiv\u001b[49m\u001b[43m,\u001b[49m\u001b[43m \u001b[49m\u001b[43mHTMLInMD\u001b[49m\u001b[43m)\u001b[49m\n",
      "File \u001b[0;32m~/miniconda3/envs/blog/lib/python3.12/site-packages/mistletoe/html_renderer.py:44\u001b[0m, in \u001b[0;36mHtmlRenderer.__init__\u001b[0;34m(self, html_escape_double_quotes, html_escape_single_quotes, process_html_tokens, *extras, **kwargs)\u001b[0m\n\u001b[1;32m     42\u001b[0m \u001b[38;5;28mself\u001b[39m\u001b[38;5;241m.\u001b[39m_suppress_ptag_stack \u001b[38;5;241m=\u001b[39m [\u001b[38;5;28;01mFalse\u001b[39;00m]\n\u001b[1;32m     43\u001b[0m final_extras \u001b[38;5;241m=\u001b[39m chain((HtmlBlock, HtmlSpan) \u001b[38;5;28;01mif\u001b[39;00m process_html_tokens \u001b[38;5;28;01melse\u001b[39;00m (), extras)\n\u001b[0;32m---> 44\u001b[0m \u001b[38;5;28;43msuper\u001b[39;49m\u001b[43m(\u001b[49m\u001b[43m)\u001b[49m\u001b[38;5;241;43m.\u001b[39;49m\u001b[38;5;21;43m__init__\u001b[39;49m\u001b[43m(\u001b[49m\u001b[38;5;241;43m*\u001b[39;49m\u001b[43mfinal_extras\u001b[49m\u001b[43m,\u001b[49m\u001b[43m \u001b[49m\u001b[38;5;241;43m*\u001b[39;49m\u001b[38;5;241;43m*\u001b[39;49m\u001b[43mkwargs\u001b[49m\u001b[43m)\u001b[49m\n\u001b[1;32m     45\u001b[0m \u001b[38;5;28mself\u001b[39m\u001b[38;5;241m.\u001b[39mhtml_escape_double_quotes \u001b[38;5;241m=\u001b[39m html_escape_double_quotes\n\u001b[1;32m     46\u001b[0m \u001b[38;5;28mself\u001b[39m\u001b[38;5;241m.\u001b[39mhtml_escape_single_quotes \u001b[38;5;241m=\u001b[39m html_escape_single_quotes\n",
      "File \u001b[0;32m~/miniconda3/envs/blog/lib/python3.12/site-packages/mistletoe/base_renderer.py:80\u001b[0m, in \u001b[0;36mBaseRenderer.__init__\u001b[0;34m(self, *extras, **kwargs)\u001b[0m\n\u001b[1;32m     78\u001b[0m         token_module \u001b[38;5;241m=\u001b[39m block_token\n\u001b[1;32m     79\u001b[0m     token_module\u001b[38;5;241m.\u001b[39madd_token(token)\n\u001b[0;32m---> 80\u001b[0m     render_func \u001b[38;5;241m=\u001b[39m \u001b[38;5;28;43mgetattr\u001b[39;49m\u001b[43m(\u001b[49m\u001b[38;5;28;43mself\u001b[39;49m\u001b[43m,\u001b[49m\u001b[43m \u001b[49m\u001b[38;5;28;43mself\u001b[39;49m\u001b[38;5;241;43m.\u001b[39;49m\u001b[43m_cls_to_func\u001b[49m\u001b[43m(\u001b[49m\u001b[43mtoken\u001b[49m\u001b[38;5;241;43m.\u001b[39;49m\u001b[38;5;18;43m__name__\u001b[39;49m\u001b[43m)\u001b[49m\u001b[43m)\u001b[49m\n\u001b[1;32m     81\u001b[0m     \u001b[38;5;28mself\u001b[39m\u001b[38;5;241m.\u001b[39mrender_map[token\u001b[38;5;241m.\u001b[39m\u001b[38;5;18m__name__\u001b[39m] \u001b[38;5;241m=\u001b[39m render_func\n\u001b[1;32m     83\u001b[0m \u001b[38;5;28mself\u001b[39m\u001b[38;5;241m.\u001b[39mfootnotes \u001b[38;5;241m=\u001b[39m {}\n",
      "\u001b[0;31mAttributeError\u001b[0m: 'CustomHtmlRenderer' object has no attribute 'render_html_in_md'"
     ]
    }
   ],
   "source": [
    "print(mistletoe.markdown(content, CustomHtmlRenderer))\n",
    "\n"
   ]
  },
  {
   "cell_type": "code",
   "execution_count": 318,
   "metadata": {},
   "outputs": [
    {
     "ename": "error",
     "evalue": "bad escape (end of pattern) at position 0",
     "output_type": "error",
     "traceback": [
      "\u001b[0;31m---------------------------------------------------------------------------\u001b[0m",
      "\u001b[0;31merror\u001b[0m                                     Traceback (most recent call last)",
      "Cell \u001b[0;32mIn[318], line 4\u001b[0m\n\u001b[1;32m      2\u001b[0m \u001b[38;5;66;03m# s = \"\\begin{aligned}\"\u001b[39;00m\n\u001b[1;32m      3\u001b[0m S \u001b[38;5;241m=\u001b[39m \u001b[38;5;124mr\u001b[39m\u001b[38;5;124m\"\u001b[39m\u001b[38;5;124mf &=  ma \u001b[39m\u001b[38;5;130;01m\\\\\u001b[39;00m\u001b[38;5;124m\"\u001b[39m\n\u001b[0;32m----> 4\u001b[0m \u001b[43mre\u001b[49m\u001b[38;5;241;43m.\u001b[39;49m\u001b[43msub\u001b[49m\u001b[43m(\u001b[49m\u001b[38;5;124;43m'\u001b[39;49m\u001b[38;5;130;43;01m\\\\\u001b[39;49;00m\u001b[38;5;130;43;01m\\\\\u001b[39;49;00m\u001b[38;5;124;43m$\u001b[39;49m\u001b[38;5;124;43m'\u001b[39;49m\u001b[43m,\u001b[49m\u001b[43m \u001b[49m\u001b[38;5;124;43m'\u001b[39;49m\u001b[38;5;130;43;01m\\\\\u001b[39;49;00m\u001b[38;5;124;43m'\u001b[39;49m\u001b[43m,\u001b[49m\u001b[43m \u001b[49m\u001b[43mS\u001b[49m\u001b[43m)\u001b[49m\n",
      "File \u001b[0;32m~/miniconda3/envs/blog/lib/python3.12/re/__init__.py:186\u001b[0m, in \u001b[0;36msub\u001b[0;34m(pattern, repl, string, count, flags)\u001b[0m\n\u001b[1;32m    179\u001b[0m \u001b[38;5;28;01mdef\u001b[39;00m \u001b[38;5;21msub\u001b[39m(pattern, repl, string, count\u001b[38;5;241m=\u001b[39m\u001b[38;5;241m0\u001b[39m, flags\u001b[38;5;241m=\u001b[39m\u001b[38;5;241m0\u001b[39m):\n\u001b[1;32m    180\u001b[0m \u001b[38;5;250m    \u001b[39m\u001b[38;5;124;03m\"\"\"Return the string obtained by replacing the leftmost\u001b[39;00m\n\u001b[1;32m    181\u001b[0m \u001b[38;5;124;03m    non-overlapping occurrences of the pattern in string by the\u001b[39;00m\n\u001b[1;32m    182\u001b[0m \u001b[38;5;124;03m    replacement repl.  repl can be either a string or a callable;\u001b[39;00m\n\u001b[1;32m    183\u001b[0m \u001b[38;5;124;03m    if a string, backslash escapes in it are processed.  If it is\u001b[39;00m\n\u001b[1;32m    184\u001b[0m \u001b[38;5;124;03m    a callable, it's passed the Match object and must return\u001b[39;00m\n\u001b[1;32m    185\u001b[0m \u001b[38;5;124;03m    a replacement string to be used.\"\"\"\u001b[39;00m\n\u001b[0;32m--> 186\u001b[0m     \u001b[38;5;28;01mreturn\u001b[39;00m \u001b[43m_compile\u001b[49m\u001b[43m(\u001b[49m\u001b[43mpattern\u001b[49m\u001b[43m,\u001b[49m\u001b[43m \u001b[49m\u001b[43mflags\u001b[49m\u001b[43m)\u001b[49m\u001b[38;5;241;43m.\u001b[39;49m\u001b[43msub\u001b[49m\u001b[43m(\u001b[49m\u001b[43mrepl\u001b[49m\u001b[43m,\u001b[49m\u001b[43m \u001b[49m\u001b[43mstring\u001b[49m\u001b[43m,\u001b[49m\u001b[43m \u001b[49m\u001b[43mcount\u001b[49m\u001b[43m)\u001b[49m\n",
      "File \u001b[0;32m~/miniconda3/envs/blog/lib/python3.12/re/__init__.py:334\u001b[0m, in \u001b[0;36m_compile_template\u001b[0;34m(pattern, repl)\u001b[0m\n\u001b[1;32m    331\u001b[0m \u001b[38;5;129m@functools\u001b[39m\u001b[38;5;241m.\u001b[39mlru_cache(_MAXCACHE)\n\u001b[1;32m    332\u001b[0m \u001b[38;5;28;01mdef\u001b[39;00m \u001b[38;5;21m_compile_template\u001b[39m(pattern, repl):\n\u001b[1;32m    333\u001b[0m     \u001b[38;5;66;03m# internal: compile replacement pattern\u001b[39;00m\n\u001b[0;32m--> 334\u001b[0m     \u001b[38;5;28;01mreturn\u001b[39;00m _sre\u001b[38;5;241m.\u001b[39mtemplate(pattern, \u001b[43m_parser\u001b[49m\u001b[38;5;241;43m.\u001b[39;49m\u001b[43mparse_template\u001b[49m\u001b[43m(\u001b[49m\u001b[43mrepl\u001b[49m\u001b[43m,\u001b[49m\u001b[43m \u001b[49m\u001b[43mpattern\u001b[49m\u001b[43m)\u001b[49m)\n",
      "File \u001b[0;32m~/miniconda3/envs/blog/lib/python3.12/re/_parser.py:999\u001b[0m, in \u001b[0;36mparse_template\u001b[0;34m(source, pattern)\u001b[0m\n\u001b[1;32m    996\u001b[0m \u001b[38;5;28;01mdef\u001b[39;00m \u001b[38;5;21mparse_template\u001b[39m(source, pattern):\n\u001b[1;32m    997\u001b[0m     \u001b[38;5;66;03m# parse 're' replacement string into list of literals and\u001b[39;00m\n\u001b[1;32m    998\u001b[0m     \u001b[38;5;66;03m# group references\u001b[39;00m\n\u001b[0;32m--> 999\u001b[0m     s \u001b[38;5;241m=\u001b[39m \u001b[43mTokenizer\u001b[49m\u001b[43m(\u001b[49m\u001b[43msource\u001b[49m\u001b[43m)\u001b[49m\n\u001b[1;32m   1000\u001b[0m     sget \u001b[38;5;241m=\u001b[39m s\u001b[38;5;241m.\u001b[39mget\n\u001b[1;32m   1001\u001b[0m     result \u001b[38;5;241m=\u001b[39m []\n",
      "File \u001b[0;32m~/miniconda3/envs/blog/lib/python3.12/re/_parser.py:239\u001b[0m, in \u001b[0;36mTokenizer.__init__\u001b[0;34m(self, string)\u001b[0m\n\u001b[1;32m    237\u001b[0m \u001b[38;5;28mself\u001b[39m\u001b[38;5;241m.\u001b[39mindex \u001b[38;5;241m=\u001b[39m \u001b[38;5;241m0\u001b[39m\n\u001b[1;32m    238\u001b[0m \u001b[38;5;28mself\u001b[39m\u001b[38;5;241m.\u001b[39mnext \u001b[38;5;241m=\u001b[39m \u001b[38;5;28;01mNone\u001b[39;00m\n\u001b[0;32m--> 239\u001b[0m \u001b[38;5;28;43mself\u001b[39;49m\u001b[38;5;241;43m.\u001b[39;49m\u001b[43m__next\u001b[49m\u001b[43m(\u001b[49m\u001b[43m)\u001b[49m\n",
      "File \u001b[0;32m~/miniconda3/envs/blog/lib/python3.12/re/_parser.py:252\u001b[0m, in \u001b[0;36mTokenizer.__next\u001b[0;34m(self)\u001b[0m\n\u001b[1;32m    250\u001b[0m         char \u001b[38;5;241m+\u001b[39m\u001b[38;5;241m=\u001b[39m \u001b[38;5;28mself\u001b[39m\u001b[38;5;241m.\u001b[39mdecoded_string[index]\n\u001b[1;32m    251\u001b[0m     \u001b[38;5;28;01mexcept\u001b[39;00m \u001b[38;5;167;01mIndexError\u001b[39;00m:\n\u001b[0;32m--> 252\u001b[0m         \u001b[38;5;28;01mraise\u001b[39;00m error(\u001b[38;5;124m\"\u001b[39m\u001b[38;5;124mbad escape (end of pattern)\u001b[39m\u001b[38;5;124m\"\u001b[39m,\n\u001b[1;32m    253\u001b[0m                     \u001b[38;5;28mself\u001b[39m\u001b[38;5;241m.\u001b[39mstring, \u001b[38;5;28mlen\u001b[39m(\u001b[38;5;28mself\u001b[39m\u001b[38;5;241m.\u001b[39mstring) \u001b[38;5;241m-\u001b[39m \u001b[38;5;241m1\u001b[39m) \u001b[38;5;28;01mfrom\u001b[39;00m \u001b[38;5;28;01mNone\u001b[39;00m\n\u001b[1;32m    254\u001b[0m \u001b[38;5;28mself\u001b[39m\u001b[38;5;241m.\u001b[39mindex \u001b[38;5;241m=\u001b[39m index \u001b[38;5;241m+\u001b[39m \u001b[38;5;241m1\u001b[39m\n\u001b[1;32m    255\u001b[0m \u001b[38;5;28mself\u001b[39m\u001b[38;5;241m.\u001b[39mnext \u001b[38;5;241m=\u001b[39m char\n",
      "\u001b[0;31merror\u001b[0m: bad escape (end of pattern) at position 0"
     ]
    }
   ],
   "source": [
    "import re\n",
    "# s = \"\\begin{aligned}\"\n",
    "S = r\"f &=  ma \\\\\"\n",
    "re.sub('\\\\\\\\$', '\\\\', S)"
   ]
  },
  {
   "cell_type": "code",
   "execution_count": null,
   "metadata": {},
   "outputs": [],
   "source": []
  }
 ],
 "metadata": {
  "kernelspec": {
   "display_name": "blog",
   "language": "python",
   "name": "python3"
  },
  "language_info": {
   "codemirror_mode": {
    "name": "ipython",
    "version": 3
   },
   "file_extension": ".py",
   "mimetype": "text/x-python",
   "name": "python",
   "nbconvert_exporter": "python",
   "pygments_lexer": "ipython3",
   "version": "3.12.3"
  }
 },
 "nbformat": 4,
 "nbformat_minor": 2
}
